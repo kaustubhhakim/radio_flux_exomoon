{
 "cells": [
  {
   "cell_type": "code",
   "execution_count": 34,
   "metadata": {},
   "outputs": [],
   "source": [
    "# MOOn STAndard RaDio flux calculator (MOOSTARD)\n",
    "# Authors: Kaustubh Hakim, Apurva V Oza\n",
    "# Citation: Narang et al. (2022) The Astrophysical Journal\n",
    "\n",
    "import numpy as np\n",
    "from astropy import units as u\n",
    "u.imperial.enable()\n",
    "from astropy.constants import mu0, N_A, R_jup, M_jup, GM_jup, G\n",
    "m_io   = 8.932e25 * u.g  # m_io: mass of Io (g)\n",
    "r_io   = 1821e5 * u.cm  # r_io: radius of Io (cm)\n",
    "# amu = 1 / N_A * u.g / u.mol  # 1 / Avogadro's no.\n",
    "import matplotlib.pyplot as plt"
   ]
  },
  {
   "cell_type": "code",
   "execution_count": 59,
   "metadata": {},
   "outputs": [
    {
     "data": {
      "text/latex": [
       "$17.185449 \\; \\mathrm{\\frac{km}{s}}$"
      ],
      "text/plain": [
       "<Quantity 17.18544855 km / s>"
      ]
     },
     "execution_count": 59,
     "metadata": {},
     "output_type": "execute_result"
    }
   ],
   "source": [
    "orbital_speed().to('km/s')"
   ]
  },
  {
   "cell_type": "code",
   "execution_count": 55,
   "metadata": {},
   "outputs": [
    {
     "data": {
      "text/latex": [
       "$3 \\times 10^{-20} \\; \\mathrm{\\frac{g}{cm^{3}}}$"
      ],
      "text/plain": [
       "<Quantity 3.e-20 g / cm3>"
      ]
     },
     "execution_count": 55,
     "metadata": {},
     "output_type": "execute_result"
    }
   ],
   "source": [
    "plasma_density()"
   ]
  },
  {
   "cell_type": "code",
   "execution_count": null,
   "metadata": {},
   "outputs": [],
   "source": []
  },
  {
   "cell_type": "code",
   "execution_count": 60,
   "metadata": {},
   "outputs": [],
   "source": [
    "# Escape speed\n",
    "def escape_speed (m_s = 1 * u.Unit(1),         # m_s: ratio of mass of satellite to mass of Io\n",
    "                  r_s = 1 * u.Unit(1)          # r_s: ratio of radius of satellite to radius of Io\n",
    "                 ): \n",
    "\n",
    "    v_ej  = np.sqrt(2 * G * m_s * m_io / (r_s * r_io)).decompose().cgs\n",
    "\n",
    "    return v_ej"
   ]
  },
  {
   "cell_type": "code",
   "execution_count": 61,
   "metadata": {},
   "outputs": [],
   "source": [
    "# Orbital speed\n",
    "def orbital_speed (m_p = 1 * u.Unit(1),  # m_p: ratio of planet mass to jupiter mass\n",
    "                   a_s = 6 * u.Unit(1),  # a_s: ratio of semimajor axis of satellite to planet radius\n",
    "                   r_p = 1 * u.Unit(1)   # r_p: ratio of planet radius to jupiter radius\n",
    "                  ):\n",
    "\n",
    "    d_orb  = (a_s * r_p * R_jup).cgs\n",
    "    v_orb  = np.sqrt(G * m_p * M_jup / d_orb).decompose().cgs\n",
    "\n",
    "    return v_orb"
   ]
  },
  {
   "cell_type": "code",
   "execution_count": 66,
   "metadata": {},
   "outputs": [],
   "source": [
    "# Relative plasma speed\n",
    "def rel_plasma_speed (v_orb = 17e5 * u.cm / u.s,  # v_orb: satellite orbital speed (cm/s)\n",
    "                      v_ej = 2e5 * u.cm / u.s     # v_ej: ejection speed (cm/s)\n",
    "                     ):\n",
    "\n",
    "    v0 = np.abs(v_orb - v_ej)\n",
    "    \n",
    "    return v0"
   ]
  },
  {
   "cell_type": "code",
   "execution_count": 62,
   "metadata": {},
   "outputs": [],
   "source": [
    "# Volume of plasma torus\n",
    "def volume_torus (a_s = 6 * u.Unit(1),         # a_s: ratio of semimajor axis of satellite to planet radius\n",
    "                  r_p = 1 * u.Unit(1),         # r_p: ratio of planet radius to jupiter radius \n",
    "                  v_ej = 2e5 * u.cm / u.s,     # v_ej: ejection speed (cm/s)\n",
    "                  v_orb  = 17e5 * u.cm / u.s   # v_orb: satellite orbital speed (cm/s)\n",
    "                 ): \n",
    "\n",
    "    d_orb  = (a_s * r_p * R_jup).cgs   \n",
    "    vol_t  = (2 * np.pi**2 * d_orb**3 * (v_ej / v_orb)**2).decompose().cgs\n",
    "\n",
    "    return vol_t"
   ]
  },
  {
   "cell_type": "code",
   "execution_count": 63,
   "metadata": {},
   "outputs": [],
   "source": [
    "# Plasma density\n",
    "def plasma_density (Mdot_s = 2e7 * u.g / u.s,    # Mdot_s: mass loss rate (g/s)\n",
    "                    t_ion = 3e4 * u.s,         # t_ion: ionisation timescale (s)\n",
    "                    vol_t = 2e31 * (u.cm)**3  # vol_t: volume of torus (cm3)\n",
    "                   ):\n",
    "\n",
    "    rho_s  = (Mdot_s * t_ion / vol_t).decompose().cgs\n",
    "    \n",
    "    return rho_s"
   ]
  },
  {
   "cell_type": "code",
   "execution_count": 81,
   "metadata": {},
   "outputs": [],
   "source": [
    "# Planetary magnetic field from cyclotron frequency\n",
    "def magnetic_field_p (nu_c = 50 * u.MHz    # nu_c: cyclotron frequency (MHz)\n",
    "                     ):\n",
    "    \n",
    "    B_p    = nu_c / 2.8 * u.G / u.MHz\n",
    "    \n",
    "    return B_p"
   ]
  },
  {
   "cell_type": "code",
   "execution_count": 56,
   "metadata": {},
   "outputs": [],
   "source": [
    "# Planetary magnetic field at the location of satellite\n",
    "def magnetic_field_s (B_p = 50 * u.Gauss,      # B_p: planetary magnetic field (G)\n",
    "                      a_s = 6 * u.Unit(1)      # a_s: ratio of semimajor axis of satellite to planet radius\n",
    "                     ):\n",
    "    \n",
    "    B_s    = B_p / a_s**3\n",
    "    \n",
    "    return B_s"
   ]
  },
  {
   "cell_type": "code",
   "execution_count": 76,
   "metadata": {},
   "outputs": [],
   "source": [
    "# Radio power\n",
    "def power_rad (beta_s = 0.1 * u.Unit(1),          # beta_s: efficiency coefficient\n",
    "               r_s = 1 * u.Unit(1),                # r_s: ratio of radius of satellite to radius of Io\n",
    "               B_s = 1 * u.Gauss,                  # B_s: planetary magnetic field at satellite location (G)\n",
    "               v0 = 10 * u.cm / u.s,               # v0: plasma speed relative to satellite\n",
    "               rho_s = 1.96e-14 * u.g / (u.cm)**3  # rho_s: satellite plasma density (g/cm3), Io = 7e-20 g/cm3 \n",
    "              ):\n",
    "    \n",
    "    P_rad  = (np.pi * beta_s * (r_s*r_io)**2 * B_s**2 * v0 / mu0 * \n",
    "              np.sqrt(rho_s / (rho_s + (1/mu0 * (B_s / v0)**2)))).decompose().cgs\n",
    "    \n",
    "    return P_rad"
   ]
  },
  {
   "cell_type": "code",
   "execution_count": 82,
   "metadata": {},
   "outputs": [],
   "source": [
    "# Radio Flux, equation 9, Narang et al. (2022)\n",
    "def flux_rad (P_rad = 100 * u.erg / u.s,  # P_rad: Satellite radio power (erg/s)\n",
    "                omega = 0.16 * u.Unit(1),   # omega: soild angle through which source power is emitted\n",
    "                d = 19.3 * u.pc.cgs,        # d: distance to the object (parsec)\n",
    "                nu_c = 140 * u.MHz      # nu_c: cyclotron frequency (MHz)\n",
    "               ):\n",
    "\n",
    "    S_nu = (P_rad / (omega * (nu_c / 2) * d**2)).to('mJy')\n",
    "    \n",
    "    return S_nu"
   ]
  },
  {
   "cell_type": "code",
   "execution_count": 84,
   "metadata": {},
   "outputs": [
    {
     "name": "stdout",
     "output_type": "stream",
     "text": [
      "WASP 49 b:  S = 0.0001004301516451823 mJy at rho_s = 2.356596650768717e-18 g / cm3 , B_p = 53.57142857142858 G and f = 150.0 MHz\n"
     ]
    }
   ],
   "source": [
    "# WASP 49 b (exoplanet archive - Stassun et al. 2017)\n",
    "\n",
    "# Fixed parameters for this object. Do not modify\n",
    "p_WASP49  = 2.782 * u.d  # orbital period (days)\n",
    "d_WASP49  = 194.55 * u.pc  # distance to the object (parsec) \n",
    "m_WASP49  = 0.399 # ratio of planet mass to jupiter mass \n",
    "r_WASP49  = 1.198 # ratio of planet radius to jupiter radius\n",
    "\n",
    "# Following parameters can be tweaked\n",
    "rs_WASP49 = 1       # ratio of satellite radius to Io radius (Earth radius = 3.5 * Io radius)\n",
    "a_WASP49  = 1.19 # 1.74    # ratio of semimajor axis of satellite to planet radius\n",
    "\n",
    "# Following parameters based on GMRT frequencies\n",
    "nu_WASP49 = 150 * u.MHz    # cyclotron frequency\n",
    "B_WASP49  = magnetic_field_p(nu_WASP49) # planetary magnetic field (Gauss)\n",
    "Bs_WASP49 = magnetic_field_s(B_WASP49) # planetary magnetic field at satellite location (Gauss)\n",
    "\n",
    "# Plasma parameters\n",
    "t_WASP49  = 32586 * u.s    # ionization timescale (s)\n",
    "Md_WASP49 = 10**7.3 * u.g / u.s # mass loss rate (g/s)\n",
    "\n",
    "# Speed parameters\n",
    "vej_WASP49  = escape_speed() # equal to io\n",
    "vorb_WASP49 = orbital_speed(m_p = m_WASP49, a_s = a_WASP49, r_p = r_WASP49)\n",
    "v0_WASP49   = rel_plasma_speed(v_ej = vej_WASP49, v_orb = vorb_WASP49)\n",
    "\n",
    "# Torus volume and plasma density\n",
    "vol_WASP49 = volume_torus (a_s = a_WASP49, r_p = r_WASP49, v_ej = vej_WASP49, v_orb = vorb_WASP49)\n",
    "rho_WASP49 = plasma_density(Mdot_s = Md_WASP49, t_ion = t_WASP49, vol_t = vol_WASP49)\n",
    "\n",
    "# Radio power\n",
    "Prad_WASP49 = power_rad(beta_s = 0.1, r_s = 1, B_s = Bs_WASP49, v0 = v0_WASP49, rho_s = rho_WASP49)\n",
    "\n",
    "# Radio flux\n",
    "S_WASP49  = flux_rad(P_rad = Prad_WASP49, d = d_WASP49, nu_c = nu_WASP49)\n",
    "\n",
    "print('WASP 49 b:  S =', S_WASP49, 'at rho_s =', rho_WASP49, ', B_p =', \\\n",
    "      B_WASP49, 'and f =', nu_WASP49)"
   ]
  },
  {
   "cell_type": "code",
   "execution_count": 85,
   "metadata": {},
   "outputs": [
    {
     "name": "stdout",
     "output_type": "stream",
     "text": [
      "HD 189733 b:  S = 0.26386122064623446 mJy at rho_s = 2.0695144629276598e-16 g / cm3 , B_p = 53.57142857142858 G and f = 150.0 MHz\n"
     ]
    }
   ],
   "source": [
    "# HD 189733 b (exoplanet archive - Addison et al. 2019)\n",
    "\n",
    "# Fixed parameters for this object. Do not modify\n",
    "p_HD189  = 2.219 * u.d  # orbital period (days)\n",
    "d_HD189  = 19.76 * u.pc  # distance to the object (parsec) \n",
    "m_HD189  = 1.166   # ratio of planet mass to jupiter mass \n",
    "r_HD189  = 1.119   # ratio of planet radius to jupiter radius\n",
    "\n",
    "# Following parameters can be tweaked\n",
    "rs_HD189 = 1       # ratio of satellite radius to Io radius (Earth radius = 3.5 * Io radius) # changed in Mdot\n",
    "a_HD189  = 1.14    # 2.11 # 1.14   # ratio of semimajor axis of satellite to planet radius\n",
    "\n",
    "# Following parameters based on GMRT frequencies\n",
    "nu_HD189 = 150 * u.MHz # cyclotron frequency\n",
    "B_HD189  = magnetic_field_p(nu_HD189) # planetary magnetic field (Gauss): ~ 20-70 G (Cauley et al., Yadav et al.)\n",
    "Bs_HD189 = magnetic_field_s(B_HD189)  # planetary magnetic field at satellite location (Gauss)\n",
    "\n",
    "# Plasma parameters\n",
    "t_HD189  = 49867 * u.s  # ionization timescale (s)\n",
    "Md_HD189 = 10**8.4 * u.g / u.s # mass loss rate (kg/s)\n",
    "\n",
    "# Speed parameters\n",
    "vej_HD189  = escape_speed() # equal to io\n",
    "vorb_HD189 = orbital_speed(m_p = m_HD189, a_s = a_HD189, r_p = r_HD189)\n",
    "v0_HD189   = rel_plasma_speed(v_ej = vej_HD189, v_orb = vorb_HD189)\n",
    "\n",
    "# Torus volume and plasma density\n",
    "vol_HD189 = volume_torus (a_s = a_HD189, r_p = r_HD189, v_ej = vej_HD189, v_orb = vorb_HD189)\n",
    "rho_HD189 = plasma_density(Mdot_s = Md_HD189, t_ion = t_HD189, vol_t = vol_HD189)\n",
    "\n",
    "# Radio power\n",
    "Prad_HD189 = power_rad(beta_s = 0.1, r_s = 1, B_s = Bs_HD189, v0 = v0_HD189, rho_s = rho_HD189)\n",
    "\n",
    "# Radio flux\n",
    "S_HD189  = flux_rad(P_rad = Prad_HD189, d = d_HD189, nu_c = nu_HD189)\n",
    "\n",
    "print('HD 189733 b:  S =', S_HD189, 'at rho_s =', rho_HD189, ', B_p =', \\\n",
    "      B_HD189, 'and f =', nu_HD189)"
   ]
  },
  {
   "cell_type": "code",
   "execution_count": 88,
   "metadata": {},
   "outputs": [
    {
     "name": "stdout",
     "output_type": "stream",
     "text": [
      "HAT-P-12b:  S = 0.0008141709346288688 mJy at rho_s = 1.1280355553200583e-16 g / cm3 , B_p = 53.57142857142858 G and f = 150.0 MHz\n"
     ]
    }
   ],
   "source": [
    "# HAT-P-12b (exoplanet archive - Öztürk & Erdem 2019)\n",
    "\n",
    "# Fixed parameters for this object. Do not modify\n",
    "p_HATP12  = 3.213 * u.d  # orbital period (days)\n",
    "d_HATP12  = 142.75 * u.pc # distance to the object (parsec) \n",
    "m_HATP12  = 0.211   # ratio of planet mass to jupiter mass \n",
    "r_HATP12  = 0.949   # ratio of planet radius to jupiter radius\n",
    "\n",
    "# Following parameters based on GMRT frequencies\n",
    "nu_HATP12 = 150 * u.MHz    # cyclotron frequency\n",
    "B_HATP12  = magnetic_field_p(nu_HATP12) # planetary magnetic field (Gauss): ~ 20-70 G (Cauley et al., Yadav et al.)\n",
    "Bs_HATP12 = magnetic_field_s(B_HATP12)\n",
    "\n",
    "# Following parameters can be tweaked\n",
    "rs_HATP12 = 1       # ratio of satellite radius to Io radius (Earth radius = 3.5 * Io radius) # changed in Mdot\n",
    "a_HATP12  = 1.16    # 2.11 # 1.16    # ratio of semimajor axis of satellite to planet radius\n",
    "\n",
    "# Plasma parameters\n",
    "t_HATP12  = 33162 * u.s # ionization timescale (s)\n",
    "Md_HATP12 = 10**8.8 * u.g / u.s # mass loss rate (kg/s)\n",
    "\n",
    "# Speed parameters\n",
    "vej_HATP12  = escape_speed() # equal to io\n",
    "vorb_HATP12 = orbital_speed(m_p = m_HATP12, a_s = a_HATP12, r_p = r_HATP12)\n",
    "v0_HATP12   = rel_plasma_speed(v_ej = vej_HATP12, v_orb = vorb_HATP12)\n",
    "\n",
    "# Torus volume and plasma density\n",
    "vol_HATP12 = volume_torus (a_s = a_HATP12, r_p = r_HATP12, v_ej = vej_HATP12, v_orb = vorb_HATP12)\n",
    "rho_HATP12 = plasma_density(Mdot_s = Md_HATP12, t_ion = t_HATP12, vol_t = vol_HATP12)\n",
    "\n",
    "# Radio power\n",
    "Prad_HATP12 = power_rad(beta_s = 0.1, r_s = 1, B_s = Bs_HATP12, v0 = v0_HATP12, rho_s = rho_HATP12)\n",
    "\n",
    "# Radio flux\n",
    "S_HATP12  = flux_rad(P_rad = Prad_HATP12, d = d_HATP12, nu_c = nu_HATP12)\n",
    "\n",
    "print('HAT-P-12b:  S =', S_HATP12, 'at rho_s =', rho_HATP12, ', B_p =', \\\n",
    "      B_HATP12, 'and f =', nu_HATP12)"
   ]
  },
  {
   "cell_type": "code",
   "execution_count": null,
   "metadata": {},
   "outputs": [],
   "source": []
  }
 ],
 "metadata": {
  "anaconda-cloud": {},
  "kernelspec": {
   "display_name": "Python 3",
   "language": "python",
   "name": "python3"
  },
  "language_info": {
   "codemirror_mode": {
    "name": "ipython",
    "version": 3
   },
   "file_extension": ".py",
   "mimetype": "text/x-python",
   "name": "python",
   "nbconvert_exporter": "python",
   "pygments_lexer": "ipython3",
   "version": "3.7.6"
  }
 },
 "nbformat": 4,
 "nbformat_minor": 1
}
