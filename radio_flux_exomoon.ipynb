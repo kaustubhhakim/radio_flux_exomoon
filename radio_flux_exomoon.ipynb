{
 "cells": [
  {
   "cell_type": "code",
   "execution_count": 3,
   "metadata": {},
   "outputs": [],
   "source": [
    "# Calculation of Exomoon Radio Flux  \n",
    "# Authors: Apurva Oza, Kaustubh Hakim\n",
    "\n",
    "import numpy as np\n",
    "from astropy import units as u\n",
    "u.imperial.enable()\n",
    "from astropy.constants import mu0, N_A, R_jup, GM_jup\n",
    "# amu = 1 / N_A * u.g / u.mol  # 1 / Avogadro's no.\n",
    "import matplotlib.pyplot as plt"
   ]
  },
  {
   "cell_type": "code",
   "execution_count": 4,
   "metadata": {},
   "outputs": [],
   "source": [
    "# Radio Flux, equations 4 and 8, Noyola et al. 2014 ApJ 791\n",
    "def radio_flux (d = 19.3, nu_c = 140, B_p = 50, a_s = 6, rho_s = 1.96e-14, v0 = 57e5, r_s = 1):\n",
    "\n",
    "    d      = d * u.pc.cgs             # d: distance to the object (parsec)\n",
    "    nu_c   = nu_c * u.MHz.cgs         # nu_c: cyclotron frequency (MHz)\n",
    "    B_p    = B_p * u.Gauss            # B_p: planetary magnetic field (Gauss)\n",
    "    a_s    = a_s * u.Unit(1)          # a_s: ratio of semimajor axis of satellite to planet radius\n",
    "    rho_s  = rho_s * u.g * (u.cm)**-3 # rho_s: satellite plasma density (g/cm3), Io = 7e-20 g/cm3 \n",
    "    v0     = v0 * u.cm / u.s          # v0: plasma speed relative to satellite\n",
    "    beta_s = 0.01                     # beta_s: efficiency coefficient\n",
    "    omega  = 0.2                      # omega: soild angle through which source power is emitted\n",
    "    r_s    = r_s * u.Unit(1)          # r_s: ratio of radius of satellite to radius of Io\n",
    "    \n",
    "    r_io   = 1821e5 * u.cm            # r_io: radius of Io (cm)\n",
    "    del_nu = nu_c / 2                 # del_nu: signal bandwidth (MHz)\n",
    "    B_s    = B_p / a_s**3             # B_s: planetary magnetic field at the location of satellite (Gauss)\n",
    "    \n",
    "    rho_c  = (1/mu0 * (B_s / v0)**2).decompose().cgs   # rho_c: critical density\n",
    "    fraction = np.sqrt(rho_s / (rho_s + rho_c ))\n",
    "    \n",
    "    # P_s: Satellite radio power or maximum radio emission intensity \n",
    "    P_s  = (np.pi * beta_s * (r_s*r_io)**2 * B_s**2 * v0 / mu0 * fraction).decompose().cgs\n",
    "    \n",
    "    # S_nu: Radio flux at the location of observer\n",
    "    S_nu = (P_s / (omega * del_nu * d**2)).to('mJy').round(4)\n",
    "    \n",
    "    return S_nu"
   ]
  },
  {
   "cell_type": "code",
   "execution_count": 5,
   "metadata": {},
   "outputs": [],
   "source": [
    "# Plasma Density, Oza et al. 2019 ApJ 885\n",
    "def plasma_density (Mdot = 10**8.4, t = 1140, r_p = 1.13, m_p = 1.13, a_s = 6, v_ej = 2e5):\n",
    "    \n",
    "    Mdot   = Mdot * u.kg.cgs / u.s             # Mdot: mass loss rate (kg/s)\n",
    "    t      = t * u.s                           # t: ionization timescale (s)\n",
    "    r_p    = r_p * u.Unit(1)                   # r_p: ratio of planet radius to jupiter radius \n",
    "    m_p    = m_p * u.Unit(1)                   # m_p: ratio of planet mass to jupiter mass \n",
    "    a_s    = a_s * u.Unit(1)                   # a_s: ratio of semimajor axis of satellite to planet radius\n",
    "    v_ej   = v_ej * u.cm / u.s                 # v_ej: satellite outgassing velocity  (cm/s)\n",
    "    \n",
    "    d_orb  = (a_s * r_p * R_jup).cgs           # d_orb: satellite orbital distance (cm)\n",
    "    v_orb  = np.sqrt(GM_jup * m_p / d_orb).cgs # v_orb: satellite orbital velocity (cm/s)\n",
    "    \n",
    "    # Vtorus: volume of torus\n",
    "    Vtorus = 2.0 * np.pi**2 * d_orb**3 * (v_ej/v_orb)**2\n",
    "    \n",
    "    # rho_s: plasma density\n",
    "    rho_s  = (Mdot * t / Vtorus).cgs\n",
    "    \n",
    "    return rho_s"
   ]
  },
  {
   "cell_type": "code",
   "execution_count": 61,
   "metadata": {},
   "outputs": [
    {
     "name": "stdout",
     "output_type": "stream",
     "text": [
      "WASP 49 b:  S = 1.0804 mJy at rho_s = 1.780025312263324e-16  g/cm3, B_p = 217.85714285714286 G and f = 610 MHz\n"
     ]
    }
   ],
   "source": [
    "# WASP 49 b (exoplanet archive - Stassun et al. 2017)\n",
    "\n",
    "# Fixed parameters for this object. Do not modify\n",
    "p_WASP49  = 2.782   # orbital period (days)\n",
    "d_WASP49  = 194.55  # distance to the object (parsec) \n",
    "m_WASP49  = 0.399   # ratio of planet mass to jupiter mass \n",
    "r_WASP49  = 1.198   # ratio of planet radius to jupiter radius\n",
    "\n",
    "# Following parameters based on GMRT frequencies\n",
    "B_WASP49  = 150/2.8 # planetary magnetic field (Gauss)\n",
    "nu_WASP49 = 150     # cyclotron frequency\n",
    "\n",
    "# Following parameters can be tweaked\n",
    "rs_WASP49 = 1       # ratio of satellite radius to Io radius (Earth radius = 3.5 * Io radius)\n",
    "a_WASP49  = 1.127 # 1.74 # 1.127    # ratio of semimajor axis of satellite to planet radius\n",
    "\n",
    "# Plasma parameters\n",
    "t_WASP49  = 241.36     # ionization timescale (s)\n",
    "Md_WASP49 = 10**5 * 1000 # mass loss rate (kg/s)\n",
    "\n",
    "# Calculation of plasma density\n",
    "rho_WASP49 = plasma_density(Mdot=Md_WASP49, t = t_WASP49, a_s = a_WASP49, r_p = r_WASP49, m_p = m_WASP49).value\n",
    "\n",
    "# Calculation of radio flux\n",
    "S_WASP49  = radio_flux(d = d_WASP49, nu_c = nu_WASP49, B_p = B_WASP49, r_s = rs_WASP49, a_s = a_WASP49, \\\n",
    "                         rho_s = rho_WASP49)\n",
    "\n",
    "print('WASP 49 b:  S =', S_WASP49, 'at rho_s =', rho_WASP49, ' g/cm3, B_p =', \\\n",
    "      B_WASP49, 'G and f =', nu_WASP49, 'MHz')"
   ]
  },
  {
   "cell_type": "code",
   "execution_count": 69,
   "metadata": {},
   "outputs": [
    {
     "name": "stdout",
     "output_type": "stream",
     "text": [
      "HD 189733 b:  S = 115.3938 mJy at rho_s = 1.769947362903328e-15  g/cm3, B_p = 217.85714285714286 G and f = 610 MHz\n"
     ]
    }
   ],
   "source": [
    "# HD 189733 b (exoplanet archive - Addison et al. 2019)\n",
    "\n",
    "# Fixed parameters for this object. Do not modify\n",
    "p_HD189  = 2.219   # orbital period (days)\n",
    "d_HD189  = 19.76   # distance to the object (parsec) \n",
    "m_HD189  = 1.166   # ratio of planet mass to jupiter mass \n",
    "r_HD189  = 1.119   # ratio of planet radius to jupiter radius\n",
    "\n",
    "# Following parameters based on GMRT frequencies\n",
    "B_HD189  = 150/2.8 # planetary magnetic field (Gauss): ~ 20-70 G (Cauley et al., Yadav et al.)\n",
    "nu_HD189 = 150     # cyclotron frequency\n",
    "\n",
    "# Following parameters can be tweaked\n",
    "rs_HD189 = 1       # ratio of satellite radius to Io radius (Earth radius = 3.5 * Io radius) # changed in Mdot\n",
    "a_HD189  = 1.6    # 2.1 # 1.6     # ratio of semimajor axis of satellite to planet radius\n",
    "\n",
    "# Plasma parameters\n",
    "t_HD189  = 1011    # ionization timescale (s)\n",
    "Md_HD189 = 10**5.4 * 1000 # mass loss rate (kg/s)\n",
    "\n",
    "# Calculation of plasma density\n",
    "rho_HD189 = plasma_density(Mdot = Md_HD189, t = t_HD189, a_s = a_HD189, r_p = r_HD189, m_p = m_HD189).value\n",
    "\n",
    "# Calculation of radio flux using calculated and fixed plasma density\n",
    "S_HD189  = radio_flux(d = d_HD189, nu_c = nu_HD189, B_p = B_HD189, r_s = rs_HD189, a_s = a_HD189, \\\n",
    "                        rho_s = rho_HD189)\n",
    "\n",
    "print('HD 189733 b:  S =', S_HD189, 'at rho_s =', rho_HD189, ' g/cm3, B_p =', \\\n",
    "      B_HD189, 'G and f =', nu_HD189, 'MHz')"
   ]
  },
  {
   "cell_type": "code",
   "execution_count": 80,
   "metadata": {},
   "outputs": [
    {
     "name": "stdout",
     "output_type": "stream",
     "text": [
      "HAT-P-12b:  S = 1.0451 mJy at rho_s = 8.641483145774932e-15  g/cm3, B_p = 53.57142857142858 G and f = 150 MHz\n"
     ]
    }
   ],
   "source": [
    "# HAT-P-12b (exoplanet archive - Öztürk & Erdem 2019)\n",
    "\n",
    "# Fixed parameters for this object. Do not modify\n",
    "p_HATP12  = 3.213   # orbital period (days)\n",
    "d_HATP12  = 142.75  # distance to the object (parsec) \n",
    "m_HATP12  = 0.211   # ratio of planet mass to jupiter mass \n",
    "r_HATP12  = 0.949   # ratio of planet radius to jupiter radius\n",
    "\n",
    "# Following parameters based on GMRT frequencies\n",
    "B_HATP12  = 150/2.8 # planetary magnetic field (Gauss): ~ 20-70 G (Cauley et al., Yadav et al.)\n",
    "nu_HATP12 = 150     # cyclotron frequency\n",
    "\n",
    "# Following parameters can be tweaked\n",
    "rs_HATP12 = 1       # ratio of satellite radius to Io radius (Earth radius = 3.5 * Io radius) # changed in Mdot\n",
    "a_HATP12  = 1.16    # 2.11 # 1.16    # ratio of semimajor axis of satellite to planet radius\n",
    "\n",
    "# Plasma parameters\n",
    "t_HATP12  = 1552    # ionization timescale (s)\n",
    "Md_HATP12 = 10**5.8 * 1000 # mass loss rate (kg/s)\n",
    "\n",
    "# Calculation of plasma density\n",
    "rho_HATP12 = plasma_density(Mdot = Md_HATP12, t = t_HATP12, a_s = a_HATP12, r_p = r_HATP12, m_p = m_HATP12).value\n",
    "\n",
    "# Calculation of radio flux using calculated and fixed plasma density\n",
    "S_HATP12  = radio_flux(d = d_HATP12, nu_c = nu_HATP12, B_p = B_HATP12, r_s = rs_HATP12, a_s = a_HATP12, \\\n",
    "                        rho_s = rho_HATP12)\n",
    "\n",
    "print('HAT-P-12b:  S =', S_HATP12, 'at rho_s =', rho_HATP12, ' g/cm3, B_p =', \\\n",
    "      B_HATP12, 'G and f =', nu_HATP12, 'MHz')"
   ]
  },
  {
   "cell_type": "code",
   "execution_count": null,
   "metadata": {},
   "outputs": [],
   "source": []
  }
 ],
 "metadata": {
  "anaconda-cloud": {},
  "kernelspec": {
   "display_name": "Python 3",
   "language": "python",
   "name": "python3"
  },
  "language_info": {
   "codemirror_mode": {
    "name": "ipython",
    "version": 3
   },
   "file_extension": ".py",
   "mimetype": "text/x-python",
   "name": "python",
   "nbconvert_exporter": "python",
   "pygments_lexer": "ipython3",
   "version": "3.7.6"
  }
 },
 "nbformat": 4,
 "nbformat_minor": 1
}
