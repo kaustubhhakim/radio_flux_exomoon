{
 "cells": [
  {
   "cell_type": "code",
   "execution_count": null,
   "metadata": {},
   "outputs": [],
   "source": [
    "# MOOn STAndard RaDio flux calculator (MOOSTARD)\n",
    "# Authors: Kaustubh Hakim, Apurva V Oza\n",
    "# Citation: Narang et al. (2022) The Astrophysical Journal\n",
    "\n",
    "import numpy as np\n",
    "from astropy import units as u\n",
    "u.imperial.enable()\n",
    "from astropy.constants import mu0, N_A, R_jup, M_jup, GM_jup, G\n",
    "m_io   = 8.932e25 * u.g  # m_io: mass of Io (g)\n",
    "r_io   = 1821e5 * u.cm  # r_io: radius of Io (cm)\n",
    "# amu = 1 / N_A * u.g / u.mol  # 1 / Avogadro's no.\n",
    "import matplotlib.pyplot as plt"
   ]
  },
  {
   "cell_type": "code",
   "execution_count": null,
   "metadata": {},
   "outputs": [],
   "source": [
    "# Escape speed\n",
    "def escape_speed (m_s = 1 * u.Unit(1),         # m_s: ratio of mass of satellite to mass of Io\n",
    "                  r_s = 1 * u.Unit(1)          # r_s: ratio of radius of satellite to radius of Io\n",
    "                 ): \n",
    "\n",
    "    v_ej  = np.sqrt(2 * G * m_s * m_io / (r_s * r_io)).decompose().cgs\n",
    "\n",
    "    return v_ej"
   ]
  },
  {
   "cell_type": "code",
   "execution_count": null,
   "metadata": {},
   "outputs": [],
   "source": [
    "# Orbital speed\n",
    "def orbital_speed (m_p = 1 * u.Unit(1),  # m_p: ratio of planet mass to jupiter mass\n",
    "                   a_s = 6 * u.Unit(1),  # a_s: ratio of semimajor axis of satellite to planet radius\n",
    "                   r_p = 1 * u.Unit(1)   # r_p: ratio of planet radius to jupiter radius\n",
    "                  ):\n",
    "\n",
    "    d_orb  = (a_s * r_p * R_jup).cgs\n",
    "    v_orb  = np.sqrt(G * m_p * M_jup / d_orb).decompose().cgs\n",
    "\n",
    "    return v_orb"
   ]
  },
  {
   "cell_type": "code",
   "execution_count": null,
   "metadata": {},
   "outputs": [],
   "source": [
    "# Relative plasma speed\n",
    "def rel_plasma_speed (v_orb = 17e5 * u.cm / u.s,  # v_orb: satellite orbital speed (cm/s)\n",
    "                      v_ej = 2e5 * u.cm / u.s     # v_ej: ejection speed (cm/s)\n",
    "                     ):\n",
    "\n",
    "    v0 = np.abs(v_orb - v_ej)\n",
    "    \n",
    "    return v0"
   ]
  },
  {
   "cell_type": "code",
   "execution_count": null,
   "metadata": {},
   "outputs": [],
   "source": [
    "# Volume of plasma torus\n",
    "def volume_torus (a_s = 6 * u.Unit(1),         # a_s: ratio of semimajor axis of satellite to planet radius\n",
    "                  r_p = 1 * u.Unit(1),         # r_p: ratio of planet radius to jupiter radius \n",
    "                  v_ej = 2e5 * u.cm / u.s,     # v_ej: ejection speed (cm/s)\n",
    "                  v_orb  = 17e5 * u.cm / u.s   # v_orb: satellite orbital speed (cm/s)\n",
    "                 ): \n",
    "\n",
    "    d_orb  = (a_s * r_p * R_jup).cgs   \n",
    "    vol_t  = (2 * np.pi**2 * d_orb**3 * (v_ej / v_orb)**2).decompose().cgs\n",
    "\n",
    "    return vol_t"
   ]
  },
  {
   "cell_type": "code",
   "execution_count": null,
   "metadata": {},
   "outputs": [],
   "source": [
    "# Plasma density\n",
    "def plasma_density (Mdot_s = 2e7 * u.g / u.s,    # Mdot_s: mass loss rate (g/s)\n",
    "                    t_ion = 3e4 * u.s,           # t_ion: ionisation timescale (s)\n",
    "                    vol_t = 2e31 * (u.cm)**3     # vol_t: volume of torus (cm3)\n",
    "                   ):\n",
    "\n",
    "    rho_s  = (Mdot_s * t_ion / vol_t).decompose().cgs\n",
    "    \n",
    "    return rho_s"
   ]
  },
  {
   "cell_type": "code",
   "execution_count": null,
   "metadata": {},
   "outputs": [],
   "source": [
    "# Planetary magnetic field from cyclotron frequency\n",
    "def magnetic_field_p (nu_c = 50 * u.MHz    # nu_c: cyclotron frequency (MHz)\n",
    "                     ):\n",
    "    \n",
    "    B_p    = nu_c / 2.8 * u.G / u.MHz\n",
    "    \n",
    "    return B_p"
   ]
  },
  {
   "cell_type": "code",
   "execution_count": null,
   "metadata": {},
   "outputs": [],
   "source": [
    "# Planetary magnetic field at the location of satellite\n",
    "def magnetic_field_s (B_p = 50 * u.Gauss,      # B_p: planetary magnetic field (G)\n",
    "                      a_s = 2 * u.Unit(1)      # a_s: ratio of semimajor axis of satellite to planet radius\n",
    "                     ):\n",
    "    \n",
    "    B_s    = B_p / a_s**3\n",
    "    \n",
    "    return B_s"
   ]
  },
  {
   "cell_type": "code",
   "execution_count": null,
   "metadata": {},
   "outputs": [],
   "source": [
    "# Radio power\n",
    "def power_rad (beta_s = 0.1 * u.Unit(1),           # beta_s: efficiency coefficient\n",
    "               r_s = 1 * u.Unit(1),                # r_s: ratio of radius of satellite to radius of Io\n",
    "               B_s = 1 * u.Gauss,                  # B_s: planetary magnetic field at satellite location (G)\n",
    "               v0 = 10 * u.cm / u.s,               # v0: plasma speed relative to satellite\n",
    "               rho_s = 1.96e-14 * u.g / (u.cm)**3  # rho_s: satellite plasma density (g/cm3), Io = 7e-20 g/cm3 \n",
    "              ):\n",
    "    \n",
    "    P_rad  = (np.pi * beta_s * (r_s*r_io)**2 * B_s**2 * v0 / mu0 * \n",
    "              np.sqrt(rho_s / (rho_s + (1/mu0 * (B_s / v0)**2)))).decompose().cgs\n",
    "    \n",
    "    return P_rad"
   ]
  },
  {
   "cell_type": "code",
   "execution_count": null,
   "metadata": {},
   "outputs": [],
   "source": [
    "# Radio Flux, equation 9, Narang et al. (2022)\n",
    "def flux_rad (P_rad = 100 * u.erg / u.s,    # P_rad: Satellite radio power (erg/s)\n",
    "                omega = 0.16 * u.Unit(1),   # omega: soild angle through which source power is emitted\n",
    "                d = 19.3 * u.pc.cgs,        # d: distance to the object (parsec)\n",
    "                nu_c = 140 * u.MHz          # nu_c: cyclotron frequency (MHz)\n",
    "               ):\n",
    "\n",
    "    S_nu = (P_rad / (omega * (nu_c / 2) * d**2)).to('mJy')\n",
    "    \n",
    "    return S_nu"
   ]
  },
  {
   "cell_type": "code",
   "execution_count": null,
   "metadata": {},
   "outputs": [],
   "source": [
    "# Fixed parameters for WASP 49 b, HAT-P 12 b, HD 186733 b (Do not modify)\n",
    "\n",
    "# WASP 49 b (exoplanet archive - Stassun et al. 2017)\n",
    "p_WASP49  = 2.782 * u.d    # orbital period (days)\n",
    "d_WASP49  = 194.55 * u.pc  # distance to the object (parsec) \n",
    "m_WASP49  = 0.399          # ratio of planet mass to jupiter mass \n",
    "r_WASP49  = 1.198          # ratio of planet radius to jupiter radius\n",
    "\n",
    "# HAT-P-12b (exoplanet archive - Öztürk & Erdem 2019)\n",
    "p_HATP12  = 3.213 * u.d    # orbital period (days)\n",
    "d_HATP12  = 142.75 * u.pc  # distance to the object (parsec) \n",
    "m_HATP12  = 0.211          # ratio of planet mass to jupiter mass \n",
    "r_HATP12  = 0.949          # ratio of planet radius to jupiter radius\n",
    "\n",
    "# HD 189733 b (exoplanet archive - Addison et al. 2019)\n",
    "p_HD189  = 2.219 * u.d     # orbital period (days)\n",
    "d_HD189  = 19.76 * u.pc    # distance to the object (parsec) \n",
    "m_HD189  = 1.166           # ratio of planet mass to jupiter mass \n",
    "r_HD189  = 1.119           # ratio of planet radius to jupiter radius"
   ]
  },
  {
   "cell_type": "code",
   "execution_count": null,
   "metadata": {},
   "outputs": [],
   "source": [
    "# Plasma parameters from DISHOOM \n",
    "\n",
    "# WASP 49 b \n",
    "t_WASP49  = 32586 * u.s         # ionization timescale (s)\n",
    "Md_WASP49 = 10**7.3 * u.g / u.s # mass loss rate (g/s)\n",
    "\n",
    "# HAT-P-12b \n",
    "t_HATP12  = 33162 * u.s         # ionization timescale (s)\n",
    "Md_HATP12 = 10**8.8 * u.g / u.s # mass loss rate (kg/s)\n",
    "\n",
    "# HD 189733 b\n",
    "t_HD189  = 49867 * u.s          # ionization timescale (s)\n",
    "Md_HD189 = 10**8.4 * u.g / u.s  # mass loss rate (kg/s)"
   ]
  },
  {
   "cell_type": "code",
   "execution_count": null,
   "metadata": {},
   "outputs": [],
   "source": [
    "# Generic parameters\n",
    "\n",
    "# Following parameters based on observational frequency\n",
    "nu_c = 150 * u.MHz            # cyclotron frequency (MHz)\n",
    "B_p  = magnetic_field_p(nu_c) # planetary magnetic field (Gauss)\n",
    "\n",
    "# Following parameters can be tweaked\n",
    "r_s    = 1  * u.Unit(1)       # ratio of satellite radius to Io radius (Earth radius = 3.5 * Io radius)\n",
    "beta_s = 0.1 * u.Unit(1)     # beta_s: efficiency coefficient"
   ]
  },
  {
   "cell_type": "code",
   "execution_count": null,
   "metadata": {},
   "outputs": [],
   "source": [
    "# WASP 49 -- Radio Flux\n",
    "\n",
    "# Stable satellite orbits\n",
    "a_WASP49  = 1.19 * u.Unit(1) # a_Hill=1.74 # a_Roche=1.19 # ratio of semimajor axis of satellite to planet radius\n",
    "\n",
    "# Magnetic field at satellite location\n",
    "Bs_WASP49 = magnetic_field_s(B_p = B_p, a_s = a_WASP49) # planetary magnetic field at satellite location (Gauss)\n",
    "\n",
    "# Speeds\n",
    "vej_WASP49  = escape_speed() # equal to io\n",
    "vorb_WASP49 = orbital_speed(m_p = m_WASP49, a_s = a_WASP49, r_p = r_WASP49)\n",
    "v0_WASP49   = rel_plasma_speed(v_ej = vej_WASP49, v_orb = vorb_WASP49)\n",
    "\n",
    "# Torus volume and plasma density\n",
    "vol_WASP49 = volume_torus (a_s = a_WASP49, r_p = r_WASP49, v_ej = vej_WASP49, v_orb = vorb_WASP49)\n",
    "rho_WASP49 = plasma_density(Mdot_s = Md_WASP49, t_ion = t_WASP49, vol_t = vol_WASP49)\n",
    "\n",
    "# Radio power\n",
    "Prad_WASP49 = power_rad(beta_s = beta_s, r_s = r_s, B_s = Bs_WASP49, v0 = v0_WASP49, rho_s = rho_WASP49)\n",
    "\n",
    "# Radio flux\n",
    "S_WASP49  = flux_rad(P_rad = Prad_WASP49, d = d_WASP49, nu_c = nu_c)\n",
    "\n",
    "print('WASP 49 b:  S =', S_WASP49.round(3),'for a_s =', a_WASP49.round(2), \n",
    "      'R_P and r_s =', r_s, 'R_io and beta_s =', beta_s.round(2), 'at f =', nu_c)"
   ]
  },
  {
   "cell_type": "code",
   "execution_count": null,
   "metadata": {},
   "outputs": [],
   "source": [
    "# HAT-P-12b -- Radio Flux\n",
    "\n",
    "# Stable satellite orbits\n",
    "a_HATP12  = 1.14 * u.Unit(1) # a_Hill=1.86 # a_Roche=1.14 # ratio of semimajor axis of satellite to planet radius\n",
    "\n",
    "# Magnetic field at satellite location\n",
    "Bs_HATP12 = magnetic_field_s(B_p = B_p, a_s = a_HATP12) # planetary magnetic field at satellite location (Gauss)\n",
    "\n",
    "# Speeds\n",
    "vej_HATP12  = escape_speed() # equal to io\n",
    "vorb_HATP12 = orbital_speed(m_p = m_HATP12, a_s = a_HATP12, r_p = r_HATP12)\n",
    "v0_HATP12   = rel_plasma_speed(v_ej = vej_HATP12, v_orb = vorb_HATP12)\n",
    "\n",
    "# Torus volume and plasma density\n",
    "vol_HATP12 = volume_torus (a_s = a_HATP12, r_p = r_HATP12, v_ej = vej_HATP12, v_orb = vorb_HATP12)\n",
    "rho_HATP12 = plasma_density(Mdot_s = Md_HATP12, t_ion = t_HATP12, vol_t = vol_HATP12)\n",
    "\n",
    "# Radio power\n",
    "Prad_HATP12 = power_rad(beta_s = beta_s, r_s = r_s, B_s = Bs_HATP12, v0 = v0_HATP12, rho_s = rho_HATP12)\n",
    "\n",
    "# Radio flux\n",
    "S_HATP12  = flux_rad(P_rad = Prad_HATP12, d = d_HATP12, nu_c = nu_c)\n",
    "\n",
    "print('HAT-P 12 b:  S =', S_HATP12.round(3),'for a_s =', a_HATP12.round(2), \n",
    "      'R_P and r_s =', r_s, 'R_io and beta_s =', beta_s.round(2), 'at f =', nu_c)"
   ]
  },
  {
   "cell_type": "code",
   "execution_count": null,
   "metadata": {},
   "outputs": [],
   "source": [
    "# HD 189733 b -- Radio Flux\n",
    "\n",
    "# Stable satellite orbits\n",
    "a_HD189  = 1.14 * u.Unit(1) # a_Hill=2.11 # a_Roche=1.14 # ratio of semimajor axis of satellite to planet radius\n",
    "\n",
    "# Magnetic field at satellite location\n",
    "Bs_HD189 = magnetic_field_s(B_p = B_p, a_s = a_HD189) # planetary magnetic field at satellite location (Gauss)\n",
    "\n",
    "# Speeds\n",
    "vej_HD189  = escape_speed() # equal to io\n",
    "vorb_HD189 = orbital_speed(m_p = m_HD189, a_s = a_HD189, r_p = r_HD189)\n",
    "v0_HD189   = rel_plasma_speed(v_ej = vej_HD189, v_orb = vorb_HD189)\n",
    "\n",
    "# Torus volume and plasma density\n",
    "vol_HD189 = volume_torus (a_s = a_HD189, r_p = r_HD189, v_ej = vej_HD189, v_orb = vorb_HD189)\n",
    "rho_HD189 = plasma_density(Mdot_s = Md_HD189, t_ion = t_HD189, vol_t = vol_HD189)\n",
    "\n",
    "# Radio power\n",
    "Prad_HD189 = power_rad(beta_s = beta_s, r_s = r_s, B_s = Bs_HD189, v0 = v0_HD189, rho_s = rho_HD189)\n",
    "\n",
    "# Radio flux\n",
    "S_HD189  = flux_rad(P_rad = Prad_HD189, d = d_HD189, nu_c = nu_c)\n",
    "\n",
    "print('HD 189733 b:  S =', S_HD189.round(2),'for a_s =', a_HD189.round(2), \n",
    "      'R_P and r_s =', r_s, 'R_io and beta_s =', beta_s.round(2), 'at f =', nu_c)"
   ]
  },
  {
   "cell_type": "code",
   "execution_count": null,
   "metadata": {},
   "outputs": [],
   "source": []
  }
 ],
 "metadata": {
  "anaconda-cloud": {},
  "kernelspec": {
   "display_name": "Python 3",
   "language": "python",
   "name": "python3"
  },
  "language_info": {
   "codemirror_mode": {
    "name": "ipython",
    "version": 3
   },
   "file_extension": ".py",
   "mimetype": "text/x-python",
   "name": "python",
   "nbconvert_exporter": "python",
   "pygments_lexer": "ipython3",
   "version": "3.7.6"
  }
 },
 "nbformat": 4,
 "nbformat_minor": 1
}
